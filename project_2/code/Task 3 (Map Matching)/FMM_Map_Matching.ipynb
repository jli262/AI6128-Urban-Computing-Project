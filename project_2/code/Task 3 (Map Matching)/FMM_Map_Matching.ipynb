{
 "cells": [
  {
   "cell_type": "code",
   "execution_count": null,
   "id": "4dd7fcbf-60b3-4fe3-aec0-7f9f866f7470",
   "metadata": {},
   "outputs": [],
   "source": [
    "import os\n",
    "import csv\n",
    "from fmm import FastMapMatch,Network,NetworkGraph,UBODTGenAlgorithm,UBODT,FastMapMatchConfig\n",
    "from fmm import Network,NetworkGraph,STMATCH,STMATCHConfig\n",
    "\n",
    "network = Network(\"./porto/edges.shp\",\"fid\", \"u\", \"v\")\n",
    "print(\"Nodes {} edges {}\".format(network.get_node_count(),network.get_edge_count()))\n",
    "graph = NetworkGraph(network)\n",
    "\n",
    "## Precompute an UBODT table\n",
    "\n",
    "# Can be skipped if you already generated an ubodt file\n",
    "ubodt_gen = UBODTGenAlgorithm(network,graph)\n",
    "status = ubodt_gen.generate_ubodt(\"./porto/ubodt.txt\", 0.02, binary=False, use_omp=True)      ###threshold of 2km\n",
    "print(status)\n",
    "\n",
    "### Read UBODT\n",
    "ubodt = UBODT.read_ubodt_csv(\"./porto/ubodt.txt\")\n",
    "### Create FMM model\n",
    "model = FastMapMatch(network,graph,ubodt)\n",
    "k=6\n",
    "radius=0.05\n",
    "gps_error=0.0002\n",
    "fmm_config = FastMapMatchConfig(k,radius,gps_error)\n",
    "\n",
    "from tqdm import tqdm\n",
    "with open(\"./data/improved_train_1000.csv\",\"r\") as csvfile:\n",
    "    reader = csv.reader(csvfile)    \n",
    "    train1000 = [row[9] for row in reader][1:]\n",
    "\n",
    "with open(\"./data/matched_routines.csv\",\"w\") as csvfile:\n",
    "    output = csv.writer(csvfile)\n",
    "    output.writerow([\"Index\", \"cpath\",\"mgeom\", \"opath\", \"offset\", \"length\", \"spdist\"])\n",
    "    for index in tqdm(range(len(train1000))):\n",
    "        gps = eval(train1000[index])\n",
    "        wkt = 'LINESTRING('+','.join([' '.join([str(j) for j in i]) for i in gps])+')'\n",
    "        output = model.match_wkt(wkt, fmm_config)\n",
    "\n",
    "        candidates = list(output.candidates)\n",
    "        output.writerow([index, str(list(output.cpath)), output.mgeom.export_wkt(), str(list(output.opath)), str([c.offset for c in candidates]), str([c.length for c in candidates]), str([c.spdist for c in candidates])])"
   ]
  },
  {
   "cell_type": "code",
   "execution_count": null,
   "id": "ff5499bd-55dc-4502-ada8-e3afc8e63083",
   "metadata": {},
   "outputs": [],
   "source": []
  }
 ],
 "metadata": {
  "kernelspec": {
   "display_name": "Python 3 (ipykernel)",
   "language": "python",
   "name": "python3"
  },
  "language_info": {
   "codemirror_mode": {
    "name": "ipython",
    "version": 3
   },
   "file_extension": ".py",
   "mimetype": "text/x-python",
   "name": "python",
   "nbconvert_exporter": "python",
   "pygments_lexer": "ipython3",
   "version": "3.7.9"
  }
 },
 "nbformat": 4,
 "nbformat_minor": 5
}
