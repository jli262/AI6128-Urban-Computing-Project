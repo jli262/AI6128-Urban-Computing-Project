{
 "cells": [
  {
   "cell_type": "code",
   "execution_count": 1,
   "id": "ed57dae3",
   "metadata": {},
   "outputs": [],
   "source": [
    "import logging\n",
    "logger = logging.getLogger(__name__)\n",
    "\n",
    "import sys\n",
    "import os\n",
    "import pandas as pd"
   ]
  },
  {
   "cell_type": "markdown",
   "id": "8e79fa3c",
   "metadata": {},
   "source": [
    "### Generating dataset with first 1000 trips"
   ]
  },
  {
   "cell_type": "code",
   "execution_count": 2,
   "id": "8d3d1990",
   "metadata": {},
   "outputs": [
    {
     "name": "stdout",
     "output_type": "stream",
     "text": [
      "               TRIP_ID CALL_TYPE  ORIGIN_CALL  ORIGIN_STAND   TAXI_ID  \\\n",
      "0  1372636858620000589         C          NaN           NaN  20000589   \n",
      "1  1372637303620000596         B          NaN           7.0  20000596   \n",
      "2  1372636951620000320         C          NaN           NaN  20000320   \n",
      "3  1372636854620000520         C          NaN           NaN  20000520   \n",
      "4  1372637091620000337         C          NaN           NaN  20000337   \n",
      "\n",
      "    TIMESTAMP DAY_TYPE  MISSING_DATA  \\\n",
      "0  1372636858        A         False   \n",
      "1  1372637303        A         False   \n",
      "2  1372636951        A         False   \n",
      "3  1372636854        A         False   \n",
      "4  1372637091        A         False   \n",
      "\n",
      "                                            POLYLINE  \n",
      "0  [[-8.618643,41.141412],[-8.618499,41.141376],[...  \n",
      "1  [[-8.639847,41.159826],[-8.640351,41.159871],[...  \n",
      "2  [[-8.612964,41.140359],[-8.613378,41.14035],[-...  \n",
      "3  [[-8.574678,41.151951],[-8.574705,41.151942],[...  \n",
      "4  [[-8.645994,41.18049],[-8.645949,41.180517],[-...  \n"
     ]
    }
   ],
   "source": [
    "cwd = os.getcwd()\n",
    "#data_directory = os.path.join(os.path.dirname(cwd), 'data')\n",
    "data_directory = os.path.join(cwd, 'data')\n",
    "data_filepath = os.path.join(data_directory, 'train.csv')\n",
    "\n",
    "df = pd.read_csv(data_filepath)\n",
    "print(df.head())"
   ]
  },
  {
   "cell_type": "code",
   "execution_count": 3,
   "id": "8aca785d",
   "metadata": {},
   "outputs": [
    {
     "data": {
      "text/plain": [
       "Index(['TRIP_ID', 'CALL_TYPE', 'ORIGIN_CALL', 'ORIGIN_STAND', 'TAXI_ID',\n",
       "       'TIMESTAMP', 'DAY_TYPE', 'MISSING_DATA', 'POLYLINE'],\n",
       "      dtype='object')"
      ]
     },
     "execution_count": 3,
     "metadata": {},
     "output_type": "execute_result"
    }
   ],
   "source": [
    "df.columns"
   ]
  },
  {
   "cell_type": "code",
   "execution_count": 4,
   "id": "594dcfc3",
   "metadata": {},
   "outputs": [
    {
     "data": {
      "text/plain": [
       "(1710670, 9)"
      ]
     },
     "execution_count": 4,
     "metadata": {},
     "output_type": "execute_result"
    }
   ],
   "source": [
    "df.shape"
   ]
  },
  {
   "cell_type": "code",
   "execution_count": 10,
   "id": "7d047071",
   "metadata": {},
   "outputs": [
    {
     "data": {
      "text/plain": [
       "(1710589,)"
      ]
     },
     "execution_count": 10,
     "metadata": {},
     "output_type": "execute_result"
    }
   ],
   "source": [
    "df.loc[:, 'TRIP_ID'].unique().shape"
   ]
  },
  {
   "cell_type": "code",
   "execution_count": 13,
   "id": "09c58b3c",
   "metadata": {},
   "outputs": [],
   "source": [
    "df.loc[:999,:].to_csv('train_1000.csv')"
   ]
  },
  {
   "cell_type": "code",
   "execution_count": null,
   "id": "baab5a27",
   "metadata": {},
   "outputs": [],
   "source": []
  }
 ],
 "metadata": {
  "kernelspec": {
   "display_name": "Python 3 (ipykernel)",
   "language": "python",
   "name": "python3"
  },
  "language_info": {
   "codemirror_mode": {
    "name": "ipython",
    "version": 3
   },
   "file_extension": ".py",
   "mimetype": "text/x-python",
   "name": "python",
   "nbconvert_exporter": "python",
   "pygments_lexer": "ipython3",
   "version": "3.7.3"
  }
 },
 "nbformat": 4,
 "nbformat_minor": 5
}
